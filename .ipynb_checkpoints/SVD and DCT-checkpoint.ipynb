{
 "cells": [
  {
   "cell_type": "markdown",
   "metadata": {},
   "source": [
    "# DSC 210 Final Course Project: Image Compression \n",
    "Team members:\n",
    "- Shreya Reddy Pakala\n",
    "- Yashi Shukla \n",
    "- Sai Kaushik Soma\n",
    "- Sagarika Sardesai"
   ]
  },
  {
   "cell_type": "code",
   "execution_count": 1,
   "metadata": {},
   "outputs": [],
   "source": [
    "#importing required libraries\n",
    "import os\n",
    "import cv2 \n",
    "import warnings\n",
    "import numpy as np\n",
    "import scipy.fftpack\n",
    "import ipywidgets as widgets\n",
    "import matplotlib.pyplot as plt\n",
    "import matplotlib.pylab as pylab\n",
    "\n",
    "from matplotlib import rc\n",
    "from numpy.linalg import svd\n",
    "from scipy import signal,misc\n",
    "from math import pi, cos, sqrt, log10\n",
    "from cv2 import imread, imwrite, imshow\n",
    "from numpy import pi,sin,r_,zeros, array, clip, trunc\n",
    "from skimage.metrics import structural_similarity as ssim\n",
    "from ipywidgets import interact,interactive,interact_manual\n",
    "\n",
    "warnings.filterwarnings('ignore')\n",
    "\n",
    "%matplotlib inline\n",
    "pylab.rcParams['figure.figsize'] = (20.0, 7.0)"
   ]
  },
  {
   "cell_type": "markdown",
   "metadata": {},
   "source": [
    "# SVD"
   ]
  },
  {
   "cell_type": "code",
   "execution_count": 2,
   "metadata": {},
   "outputs": [],
   "source": [
    "def compress_svd(image,k):\n",
    "    \"\"\"\n",
    "    Perform svd decomposition and truncated (using k singular values/vectors) reconstruction\n",
    "    returns\n",
    "    --------\n",
    "      reconstructed matrix reconst_matrix, array of singular values s\n",
    "    \"\"\"\n",
    "    U,s,V = svd(image,full_matrices=False)\n",
    "    reconst_matrix = np.dot(U[:,:k],np.dot(np.diag(s[:k]),V[:k,:]))\n",
    "   \n",
    "    return reconst_matrix"
   ]
  },
  {
   "cell_type": "markdown",
   "metadata": {},
   "source": [
    "# DCT"
   ]
  },
  {
   "cell_type": "code",
   "execution_count": 3,
   "metadata": {},
   "outputs": [],
   "source": [
    "def dct2(a):\n",
    "    return scipy.fftpack.dct( scipy.fftpack.dct( a, axis=0, norm='ortho' ), axis=1, norm='ortho' )\n",
    "\n",
    "def idct2(a):\n",
    "    return scipy.fftpack.idct( scipy.fftpack.idct( a, axis=0 , norm='ortho'), axis=1 , norm='ortho')\n",
    "\n",
    "def compress_dct(im,thresh):\n",
    "    imsize = im.shape\n",
    "    dct = np.zeros(imsize)\n",
    "\n",
    "    # Do 8x8 DCT on image (in-place)\n",
    "    for i in r_[:imsize[0]:8]:\n",
    "        for j in r_[:imsize[1]:8]:\n",
    "            dct[i:(i+8),j:(j+8)] = dct2( im[i:(i+8),j:(j+8)] )\n",
    "            \n",
    "    # Threshold\n",
    "    dct_thresh = dct * (abs(dct) > (thresh*np.max(dct)))\n",
    "    \n",
    "    percent_nonzeros = np.sum( dct_thresh != 0.0 ) / (imsize[0]*imsize[1]*1.0)\n",
    "    \n",
    "    im_dct = np.zeros(imsize)\n",
    "\n",
    "    for i in r_[:imsize[0]:8]:\n",
    "        for j in r_[:imsize[1]:8]:\n",
    "            im_dct[i:(i+8),j:(j+8)] = idct2( dct_thresh[i:(i+8),j:(j+8)] )\n",
    "            \n",
    "    return im_dct"
   ]
  },
  {
   "cell_type": "markdown",
   "metadata": {},
   "source": [
    "# Performance Metrics"
   ]
  },
  {
   "cell_type": "code",
   "execution_count": 4,
   "metadata": {},
   "outputs": [],
   "source": [
    "def compressionratio(original_img_arr, compressed_img_arr):\n",
    "    \n",
    "    cv2.imwrite(f\"4kImages/original_temp.jpg\", original_img_arr)\n",
    "    original_size = round(os.stat(\"4kImages/original_temp.jpg\").st_size)\n",
    "    \n",
    "    cv2.imwrite(f\"4kImages/compressed_temp.jpg\", compressed_img_arr)\n",
    "    compressed_size = round(os.stat(\"4kImages/compressed_temp.jpg\").st_size)\n",
    "\n",
    "    compression_ratio = original_size/compressed_size\n",
    "\n",
    "    return round(compression_ratio,2),original_size,compressed_size"
   ]
  },
  {
   "cell_type": "code",
   "execution_count": 5,
   "metadata": {},
   "outputs": [],
   "source": [
    "def get_mse(original_img_arr, decoded_img_arr):\n",
    "    mse = np.sum((original_img_arr.astype(\"float\") - decoded_img_arr.astype(\"float\")) ** 2)\n",
    "    mse /= float(original_img_arr.shape[0] * decoded_img_arr.shape[1])\n",
    "    return mse"
   ]
  },
  {
   "cell_type": "code",
   "execution_count": 6,
   "metadata": {},
   "outputs": [],
   "source": [
    "def get_psnr(original, compressed):\n",
    "    mse = np.mean((original - compressed) ** 2)\n",
    "    if(mse == 0):  # MSE is zero means no noise is present in the signal ==> PSNR has no importance.\n",
    "        return 100\n",
    "    max_pixel = 255.0\n",
    "    psnr = 20 * log10(max_pixel / sqrt(mse))\n",
    "    return psnr"
   ]
  },
  {
   "cell_type": "code",
   "execution_count": 7,
   "metadata": {},
   "outputs": [],
   "source": [
    "def get_ssim(img1, img2):\n",
    "    if not img1.shape == img2.shape:\n",
    "        raise ValueError('Input images must have the same dimensions.')\n",
    "    if img1.ndim == 2:\n",
    "        return ssim(img1, img2)\n",
    "    elif img1.ndim == 3:\n",
    "        if img1.shape[2] == 3:\n",
    "            ssims = []\n",
    "            for i in range(3):\n",
    "                ssims.append(ssim(img1, img2))\n",
    "            return np.array(ssims).mean()\n",
    "        elif img1.shape[2] == 1:\n",
    "            return ssim(np.squeeze(img1), np.squeeze(img2))\n",
    "    else:\n",
    "        raise ValueError('Wrong input image dimensions.')\n",
    "        "
   ]
  },
  {
   "cell_type": "markdown",
   "metadata": {},
   "source": [
    "# Getting the images to perform compression"
   ]
  },
  {
   "cell_type": "code",
   "execution_count": 8,
   "metadata": {},
   "outputs": [],
   "source": [
    "data_images = {\n",
    "    \"Image1\":imread(\"4kImages/4k-3840-x-2160-wallpapers-themefoxx (1).jpg\",cv2.IMREAD_GRAYSCALE),\n",
    "    \"Image2\":imread(\"4kImages/4k-3840-x-2160-wallpapers-themefoxx (2).jpg\",cv2.IMREAD_GRAYSCALE),\n",
    "    \"Image3\":imread(\"4kImages/4k-3840-x-2160-wallpapers-themefoxx (3).jpg\",cv2.IMREAD_GRAYSCALE),\n",
    "    \"Image4\":imread(\"4kImages/4k-3840-x-2160-wallpapers-themefoxx (4).jpg\",cv2.IMREAD_GRAYSCALE),\n",
    "    \"Image5\":imread(\"4kImages/4k-3840-x-2160-wallpapers-themefoxx (5).jpg\",cv2.IMREAD_GRAYSCALE),\n",
    "    \"Image6\":imread(\"4kImages/4k-3840-x-2160-wallpapers-themefoxx (6).jpg\",cv2.IMREAD_GRAYSCALE),\n",
    "    \"Image7\":imread(\"4kImages/4k-3840-x-2160-wallpapers-themefoxx (7).jpg\",cv2.IMREAD_GRAYSCALE),\n",
    "    \"Image8\":imread(\"4kImages/4k-3840-x-2160-wallpapers-themefoxx (8).jpg\",cv2.IMREAD_GRAYSCALE),\n",
    "    \"Image9\":imread(\"4kImages/4k-3840-x-2160-wallpapers-themefoxx (9).jpg\",cv2.IMREAD_GRAYSCALE),\n",
    "    \"Image10\":imread(\"4kImages/4k-3840-x-2160-wallpapers-themefoxx (10).jpg\",cv2.IMREAD_GRAYSCALE)\n",
    "}"
   ]
  },
  {
   "cell_type": "markdown",
   "metadata": {},
   "source": [
    "# Performance and Evaluation of SVD on 4k images"
   ]
  },
  {
   "cell_type": "code",
   "execution_count": 9,
   "metadata": {},
   "outputs": [],
   "source": [
    "def compress_svd_images(Image,K):\n",
    "    \"\"\"\n",
    "     compresses gray scale images and display the reconstructed image.\n",
    "     Also displays a plot of singular values\n",
    "    \"\"\"\n",
    "    image=data_images[Image]\n",
    "    svd_img = compress_svd(image,K)\n",
    "    \n",
    "    cr_svd,original_size,compressed_size = compressionratio(image,svd_img)\n",
    "    mse_svd = round(get_mse(image,svd_img),2)\n",
    "    psnr_svd = round(get_psnr(image,svd_img),2)\n",
    "    ssim_svd = round(get_ssim(image,svd_img),2)\n",
    "    \n",
    "    f, axarr = plt.subplots(1,2)\n",
    "    axarr[0].imshow(image,cmap='gray')\n",
    "    axarr[1].imshow(svd_img,cmap='gray')\n",
    "    axarr[0].axis('off')\n",
    "    axarr[1].axis('off')\n",
    "    axarr[0].title.set_text(r\"$\\bf{Original\\:Image}$\"+\"\\nSize = {} KB\\n\\n\\n\\n\".format(round(original_size/1024)))\n",
    "    axarr[1].title.set_text(r\"$\\bf{SVD\\:Image}$\"+\"\\nSize = {} KB\\nCompression Ratio = {}\\nMean Squared Error = {}\\nPeak Signal to Noise Ration = {}\\nStructural Similarity Index Measure = {}\".format(round(compressed_size/1024),cr_svd,mse_svd,psnr_svd,ssim_svd))"
   ]
  },
  {
   "cell_type": "code",
   "execution_count": 10,
   "metadata": {},
   "outputs": [
    {
     "data": {
      "application/vnd.jupyter.widget-view+json": {
       "model_id": "59a4355945ea46ca927d0876a9eed373",
       "version_major": 2,
       "version_minor": 0
      },
      "text/plain": [
       "interactive(children=(Dropdown(description='Image', options=('Image1', 'Image2', 'Image3', 'Image4', 'Image5',…"
      ]
     },
     "metadata": {},
     "output_type": "display_data"
    }
   ],
   "source": [
    "list_widget = widgets.Dropdown(options=list(data_images.keys()))\n",
    "int_slider_widget = widgets.IntSlider(value=30,min=10,max=50)\n",
    "interact(compress_svd_images,Image=list_widget,K=int_slider_widget);"
   ]
  },
  {
   "cell_type": "markdown",
   "metadata": {},
   "source": [
    "# Performance and Evaluation of DCT on 4k images"
   ]
  },
  {
   "cell_type": "code",
   "execution_count": 11,
   "metadata": {},
   "outputs": [],
   "source": [
    "def compress_dct_images(Image,Threshold):\n",
    "    image = data_images[Image]\n",
    "    dct_img = compress_dct(image,Threshold/100)\n",
    "    \n",
    "    cr_dct,original_size,compressed_size = compressionratio(image,dct_img)\n",
    "    mse_dct = round(get_mse(image,dct_img),2)\n",
    "    psnr_dct = round(get_psnr(image,dct_img),2)\n",
    "    ssim_dct = round(get_ssim(image,dct_img),2)\n",
    "    \n",
    "    f, axarr = plt.subplots(1,2)\n",
    "    axarr[0].imshow(image,cmap='gray')\n",
    "    axarr[1].imshow(dct_img,cmap='gray')\n",
    "    axarr[0].axis('off')\n",
    "    axarr[1].axis('off')\n",
    "    axarr[0].title.set_text(r\"$\\bf{Original\\:Image}$\"+\"\\nSize = {} KB\\n\\n\\n\\n\".format(round(original_size/1024)))\n",
    "    axarr[1].title.set_text(r\"$\\bf{DCT\\:Image}$\"+\"\\nSize = {} KB\\nCompression Ratio = {}\\nMean Squared Error = {}\\nPeak Signal to Noise Ration = {}\\nStructural Similarity Index Measure = {}\".format(round(compressed_size/1024),cr_dct,mse_dct,psnr_dct,ssim_dct))\n",
    "    "
   ]
  },
  {
   "cell_type": "code",
   "execution_count": 12,
   "metadata": {},
   "outputs": [
    {
     "data": {
      "application/vnd.jupyter.widget-view+json": {
       "model_id": "e6c61ba20bd04c69ac602833a71188d6",
       "version_major": 2,
       "version_minor": 0
      },
      "text/plain": [
       "interactive(children=(Dropdown(description='Image', options=('Image1', 'Image2', 'Image3', 'Image4', 'Image5',…"
      ]
     },
     "metadata": {},
     "output_type": "display_data"
    }
   ],
   "source": [
    "list_widget = widgets.Dropdown(options=list(data_images.keys()))\n",
    "int_slider_widget = widgets.FloatSlider(value=0.17,min=0.10,max=0.50)\n",
    "interact(compress_dct_images,Image=list_widget,Threshold=int_slider_widget);"
   ]
  },
  {
   "cell_type": "code",
   "execution_count": 13,
   "metadata": {},
   "outputs": [],
   "source": [
    "def compare_dct_svd_images(Image):\n",
    "    image = data_images[Image]\n",
    "    svd_img = compress_svd(image,30)\n",
    "    \n",
    "    dct_img = compress_dct(image,0.00165)\n",
    "    \n",
    "    cr_svd,original_size,size_svd = compressionratio(image,svd_img)\n",
    "    mse_svd = round(get_mse(image,svd_img),2)\n",
    "    psnr_svd = round(get_psnr(image,svd_img),2)\n",
    "    ssim_svd = round(get_ssim(image,svd_img),2)\n",
    "    \n",
    "    cr_dct,original_size,size_dct = compressionratio(image,dct_img)\n",
    "    mse_dct = round(get_mse(image,dct_img),2)\n",
    "    psnr_dct = round(get_psnr(image,dct_img),2)\n",
    "    ssim_dct = round(get_ssim(image,dct_img),2)\n",
    "    \n",
    "    f, axarr = plt.subplots(1,3)\n",
    "    axarr[0].imshow(image,cmap='gray')\n",
    "    axarr[1].imshow(svd_img,cmap='gray')\n",
    "    axarr[2].imshow(dct_img,cmap='gray')\n",
    "    axarr[0].axis('off')\n",
    "    axarr[1].axis('off')\n",
    "    axarr[2].axis('off')\n",
    "    axarr[0].title.set_text(r\"$\\bf{Original\\:Image}$\"+\"\\nSize = {} KB\\n\\n\\n\\n\".format(round(original_size/1024)))\n",
    "    axarr[1].title.set_text(r\"$\\bf{SVD\\:Image}$\"+\"\\nSize = {} KB\\nCompression Ratio = {}\\nMean Squared Error = {}\\nPeak Signal to Noise Ration = {}\\nStructural Similarity Index Measure = {}\".format(round(size_svd/1024),cr_svd,mse_svd,psnr_svd,ssim_svd))\n",
    "    axarr[2].title.set_text(r\"$\\bf{DCT\\:Image}$\"+\"\\nSize = {} KB\\nCompression Ratio = {}\\nMean Squared Error = {}\\nPeak Signal to Noise Ration = {}\\nStructural Similarity Index Measure = {}\".format(round(size_dct/1024),cr_dct,mse_dct,psnr_dct,ssim_dct))\n",
    "    plt.axis('off')"
   ]
  },
  {
   "cell_type": "code",
   "execution_count": 14,
   "metadata": {},
   "outputs": [
    {
     "data": {
      "application/vnd.jupyter.widget-view+json": {
       "model_id": "c8220d9534c64627b37f451ca0297e75",
       "version_major": 2,
       "version_minor": 0
      },
      "text/plain": [
       "interactive(children=(Dropdown(description='Image', options=('Image1', 'Image2', 'Image3', 'Image4', 'Image5',…"
      ]
     },
     "metadata": {},
     "output_type": "display_data"
    }
   ],
   "source": [
    "list_widget = widgets.Dropdown(options=list(data_images.keys()))\n",
    "interact(compare_dct_svd_images,Image=list_widget);"
   ]
  },
  {
   "cell_type": "code",
   "execution_count": null,
   "metadata": {},
   "outputs": [],
   "source": []
  }
 ],
 "metadata": {
  "colab": {
   "provenance": []
  },
  "kernelspec": {
   "display_name": "Python 3 (ipykernel)",
   "language": "python",
   "name": "python3"
  },
  "language_info": {
   "codemirror_mode": {
    "name": "ipython",
    "version": 3
   },
   "file_extension": ".py",
   "mimetype": "text/x-python",
   "name": "python",
   "nbconvert_exporter": "python",
   "pygments_lexer": "ipython3",
   "version": "3.9.12"
  },
  "vscode": {
   "interpreter": {
    "hash": "610c699f0cd8c4f129acd9140687fff6866bed0eb8e82f249fc8848b827b628c"
   }
  }
 },
 "nbformat": 4,
 "nbformat_minor": 1
}
